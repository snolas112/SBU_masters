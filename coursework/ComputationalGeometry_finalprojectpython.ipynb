{
 "cells": [
  {
   "cell_type": "code",
   "execution_count": 1,
   "id": "9b7a804d",
   "metadata": {},
   "outputs": [],
   "source": [
    "from matplotlib import pyplot as plt\n",
    "from matplotlib import patches\n",
    "import numpy\n"
   ]
  },
  {
   "cell_type": "code",
   "execution_count": 2,
   "id": "5aceb3cf",
   "metadata": {},
   "outputs": [],
   "source": [
    "#choose how many points\n",
    "n = 10\n",
    "points = numpy.zeros((n+1,3))"
   ]
  },
  {
   "cell_type": "code",
   "execution_count": 3,
   "id": "96d2e779",
   "metadata": {},
   "outputs": [],
   "source": [
    "# input points\n",
    "points[0] = [0.2, 0.9, 0]\n",
    "points[1] = [0.09, 0.98, 0]\n",
    "points[2] = [0.303, 0.987, 0]\n",
    "points[3] = [0.4, 0.989, 0]\n",
    "points[4] = [0.8, 0.9, 0]\n",
    "points[5] = [0.15, 0.95, 0]\n",
    "points[6] = [0.7, 0.9002, 0]\n",
    "points[7] = [0.805, 0.901, 0]\n",
    "points[8] = [0.5, 0.94, 0]\n",
    "points[9] = [0.0, 0.0, 0]\n",
    "points[10] = [1, 1, 0]\n",
    "\n",
    "#must include [0,0]; so prompt for input of n-1 points\n",
    "\n",
    "#print(points)"
   ]
  },
  {
   "cell_type": "code",
   "execution_count": 4,
   "id": "f742a151",
   "metadata": {},
   "outputs": [],
   "source": [
    "# test that points are in the [0,1] unit box; prompt to re-input points if not\n"
   ]
  },
  {
   "cell_type": "code",
   "execution_count": 5,
   "id": "81cdb32d",
   "metadata": {},
   "outputs": [
    {
     "name": "stdout",
     "output_type": "stream",
     "text": [
      "[[0.     0.     0.    ]\n",
      " [0.09   0.98   1.07  ]\n",
      " [0.15   0.95   1.1   ]\n",
      " [0.2    0.9    1.1   ]\n",
      " [0.303  0.987  1.29  ]\n",
      " [0.4    0.989  1.389 ]\n",
      " [0.5    0.94   1.44  ]\n",
      " [0.7    0.9002 1.6002]\n",
      " [0.8    0.9    1.7   ]\n",
      " [0.805  0.901  1.706 ]\n",
      " [1.     1.     2.    ]]\n"
     ]
    }
   ],
   "source": [
    "# create ordered set S\n",
    "s = numpy.zeros((n+1,2))\n",
    "norm = numpy.zeros(n+1);\n",
    "# keep s[n-1]=(0,0)\n",
    "for i in range(0,n+1):\n",
    "    norm[i]=points[i, 0]+points[i, 1]\n",
    "    points[i,2]=norm[i]\n",
    "    \n",
    "ind = numpy.argsort( points[:,2] ) \n",
    "s = points[ind]\n",
    "    \n",
    "print(s)"
   ]
  },
  {
   "cell_type": "code",
   "execution_count": null,
   "id": "0a805fce",
   "metadata": {},
   "outputs": [],
   "source": []
  },
  {
   "cell_type": "code",
   "execution_count": 6,
   "id": "a7439e91",
   "metadata": {},
   "outputs": [
    {
     "data": {
      "image/png": "[encoded data removed]",
      "text/plain": [
       "<Figure size 432x288 with 1 Axes>"
      ]
     },
     "metadata": {
      "needs_background": "light"
     },
     "output_type": "display_data"
    }
   ],
   "source": [
    "# plot point selection\n",
    "x = s[:, 0]\n",
    "y = s[:, 1]\n",
    "plt.xlim(0, 1)\n",
    "plt.ylim(0, 1)\n",
    "plt.grid()\n",
    "plt.scatter(x, y)\n",
    "plt.title(\"Your Points Selection: \")\n",
    "for i in range(0,n):\n",
    "    plt.annotate(\"s\" + str(n-i), (x[i], y[i]), xytext=(2.5, 2.5), textcoords='offset points')\n",
    "plt.show()\n"
   ]
  },
  {
   "cell_type": "code",
   "execution_count": 11,
   "id": "df470e98",
   "metadata": {
    "scrolled": false
   },
   "outputs": [
    {
     "data": {
      "image/png": "[encoded data removed]",
      "text/plain": [
       "<Figure size 576x576 with 1 Axes>"
      ]
     },
     "metadata": {
      "needs_background": "light"
     },
     "output_type": "display_data"
    }
   ],
   "source": [
    "# GREEDYPACKING #\n",
    "#plot rectangles\n",
    "grectangle = numpy.zeros((n,2))\n",
    "for i in range(0,n):\n",
    "    #start at largest value; then through j = n-i-1; j is reverse index\n",
    "    j=n-i-1\n",
    "    heighttest=0\n",
    "    widthtest=0\n",
    "    minwidth=0\n",
    "    height=0\n",
    "    width=0\n",
    "    area = 0\n",
    "    testarea = 0\n",
    "\n",
    "    #min area (starting guess)\n",
    "    height=1-s[j,1]\n",
    "    width= 1-s[j,0]\n",
    "    for r in range(j+1,n+1):\n",
    "        heighttest = s[r,1] - s[j,1]\n",
    "        widthtest = s[r,0] - s[j,0]\n",
    "        if(heighttest <= height):\n",
    "            height=heighttest\n",
    "        if(widthtest <= width):\n",
    "            width = widthtest\n",
    "        area = width*height\n",
    "    \n",
    "    #find max area over all disjoint axis parallel rectangles\n",
    "    \n",
    "    for ri in range(j+1,n+1):\n",
    "        heighttest=s[ri,1]-s[j,1]\n",
    "        minwidth=s[n,0]-s[j,0]\n",
    "        intersects=0\n",
    "        for rj in range(j+1,n+1):\n",
    "            h=s[rj,1]-s[j,1]\n",
    "            if(h < heighttest):\n",
    "                widthtest = s[rj,0]-s[j,0]\n",
    "                if(widthtest <= minwidth):\n",
    "                    minwidth=widthtest\n",
    "                intersects=intersects+1\n",
    "                \n",
    "        if(intersects==0):\n",
    "            minwidth=1-s[j,0]\n",
    "        testarea = minwidth*heighttest    \n",
    "        \n",
    "        if(testarea >= area):\n",
    "            area = testarea\n",
    "            height= heighttest\n",
    "            width=minwidth\n",
    "    \n",
    "    grectangle[j,0]=width\n",
    "    grectangle[j,1]=height\n",
    "\n",
    "            \n",
    "#compute area\n",
    "greedy_area = 0\n",
    "for i in range(0,n):\n",
    "    greedy_area = greedy_area + grectangle[i,0]*grectangle[i,1]\n",
    "        \n",
    "x = s[0:n, 0]\n",
    "y = s[0:n, 1]\n",
    "plt.xlim(0, 1)\n",
    "plt.ylim(0, 1)\n",
    "plt.grid()\n",
    "plt.scatter(x, y)\n",
    "plt.suptitle(\"Greedy Packing Rectangles: \")\n",
    "plt.title(\"Area Score: \" + str(greedy_area))\n",
    "for i in range(0,n):\n",
    "    plt.annotate(\"s\" + str(n-i), (x[i], y[i]), xytext=(2.5, 2.5), textcoords='offset points')    \n",
    "    plt.gca().add_patch(patches.Rectangle((x[i],y[i]), grectangle[i, 0], grectangle[i, 1], angle=0.0, linewidth=3, edgecolor='k', facecolor='tab:cyan'))\n",
    "plt.rcParams['figure.figsize'] = [8, 8]\n",
    "plt.show()\n"
   ]
  },
  {
   "cell_type": "code",
   "execution_count": null,
   "id": "f2f2bc70",
   "metadata": {
    "scrolled": false
   },
   "outputs": [],
   "source": []
  },
  {
   "cell_type": "code",
   "execution_count": null,
   "id": "25041582",
   "metadata": {},
   "outputs": [],
   "source": [
    "\n",
    "    "
   ]
  },
  {
   "cell_type": "code",
   "execution_count": 8,
   "id": "41e89457",
   "metadata": {},
   "outputs": [
    {
     "data": {
      "image/png": "[encoded data removed]",
      "text/plain": [
       "<Figure size 576x576 with 1 Axes>"
      ]
     },
     "metadata": {
      "needs_background": "light"
     },
     "output_type": "display_data"
    }
   ],
   "source": [
    "# DOMINANCE ORDER RECTANGLE PACKING #\n",
    "#in progress; toward implementation of Tile Packing ALgorithm\n",
    "\n",
    "#compute area of rectangles\n",
    "#plot rectangles\n",
    "#drectangle = numpy.zeros((n,2))\n",
    "#for i in range(0,n):\n",
    "#    #start at largest value; then through j = n-i-1\n",
    "#    j=n-i-1\n",
    "#    height=0\n",
    "#    width=0\n",
    "#    maxwidth=0\n",
    "#    maxheight=0\n",
    "#    height = 1- s[j,1]\n",
    "#    width= 1-s[j,0]\n",
    "#    for r in range(j+1,n):\n",
    "#        #make sure new rectangle is disjoint\n",
    "#        heighttest = s[r,1] - s[j,1]\n",
    "#        widthtest = s[r,0] - s[j,0]\n",
    "#        if(heighttest <= height):\n",
    "#            height=heighttest\n",
    "#        if(widthtest <= width):\n",
    "#            width = widthtest\n",
    "#    drectangle[j,0]=width\n",
    "#    drectangle[j,1]=height\n",
    "            \n",
    "#compute area\n",
    "#dominance_area = 0\n",
    "#for i in range(0,n):\n",
    "#    dominance_area = dominance_area + drectangle[j,0]*drectangle[j,1]\n",
    "        \n",
    "#x = s[:, 0]\n",
    "#y = s[:, 1]\n",
    "#plt.xlim(0, 1)\n",
    "#plt.ylim(0, 1)\n",
    "#plt.grid()\n",
    "#plt.scatter(x, y)\n",
    "#plt.suptitle(\"Dominance Order Rectangle Tiling: \")\n",
    "#plt.title(\"Area Score: \" + str(dominance_area))\n",
    "#for i in range(0,n):\n",
    "#    plt.annotate(\"s\" + str(n-i), (x[i], y[i]), xytext=(2.5, 2.5), textcoords='offset points')    \n",
    "#    plt.gca().add_patch(patches.Rectangle((x[i],y[i]), drectangle[i, 0], drectangle[i, 1], angle=0.0, linewidth=1, edgecolor='k', facecolor='none'))\n",
    "#plt.show()\n",
    "    \n"
   ]
  },
  {
   "cell_type": "code",
   "execution_count": 9,
   "id": "6fd9cdae",
   "metadata": {},
   "outputs": [],
   "source": [
    "# TILE PACKING #\n"
   ]
  },
  {
   "cell_type": "code",
   "execution_count": 10,
   "id": "ec3e5484",
   "metadata": {},
   "outputs": [],
   "source": [
    "# BOTH & "
   ]
  },
  {
   "cell_type": "code",
   "execution_count": null,
   "id": "f2529505",
   "metadata": {},
   "outputs": [],
   "source": []
  }
 ],
 "metadata": {
  "kernelspec": {
   "display_name": "Python 3 (ipykernel)",
   "language": "python",
   "name": "python3"
  },
  "language_info": {
   "codemirror_mode": {
    "name": "ipython",
    "version": 3
   },
   "file_extension": ".py",
   "mimetype": "text/x-python",
   "name": "python",
   "nbconvert_exporter": "python",
   "pygments_lexer": "ipython3",
   "version": "3.9.7"
  }
 },
 "nbformat": 4,
 "nbformat_minor": 5
}
